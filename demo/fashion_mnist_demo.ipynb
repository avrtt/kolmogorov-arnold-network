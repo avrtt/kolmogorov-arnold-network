{
 "cells": [
  {
   "cell_type": "code",
   "execution_count": 1,
   "metadata": {},
   "outputs": [],
   "source": [
    "import tensorflow as tf\n",
    "from keras.layers import Dense, Conv2D, GlobalAveragePooling2D\n",
    "from tfkan.layers import DenseKAN, Conv2DKAN\n",
    "\n",
    "import numpy as np\n",
    "from matplotlib import pyplot as plt"
   ]
  },
  {
   "cell_type": "code",
   "execution_count": 2,
   "metadata": {},
   "outputs": [],
   "source": [
    "# load fashion-mnist dataset\n",
    "(x_train, y_train), (x_test, y_test) = tf.keras.datasets.fashion_mnist.load_data()\n",
    "# normalize data\n",
    "x_train = np.expand_dims(x_train / 255.0, axis=-1).astype(np.float32)\n",
    "x_test = np.expand_dims(x_test / 255.0, axis=-1).astype(np.float32)"
   ]
  },
  {
   "cell_type": "code",
   "execution_count": 5,
   "metadata": {},
   "outputs": [
    {
     "name": "stdout",
     "output_type": "stream",
     "text": [
      "Model: \"sequential_1\"\n",
      "_________________________________________________________________\n",
      " Layer (type)                Output Shape              Param #   \n",
      "=================================================================\n",
      " conv2d (Conv2D)             (None, 12, 12, 32)        832       \n",
      "                                                                 \n",
      " conv2d_1 (Conv2D)           (None, 4, 4, 64)          51264     \n",
      "                                                                 \n",
      " global_average_pooling2d_1  (None, 64)                0         \n",
      "  (GlobalAveragePooling2D)                                       \n",
      "                                                                 \n",
      " dense (Dense)               (None, 10)                650       \n",
      "                                                                 \n",
      "=================================================================\n",
      "Total params: 52746 (206.04 KB)\n",
      "Trainable params: 52746 (206.04 KB)\n",
      "Non-trainable params: 0 (0.00 Byte)\n",
      "_________________________________________________________________\n"
     ]
    }
   ],
   "source": [
    "# MLP\n",
    "mlp = tf.keras.models.Sequential([\n",
    "    Conv2D(filters=32, kernel_size=5, strides=2, padding='valid', activation='relu'),\n",
    "    Conv2D(filters=64, kernel_size=5, strides=2, padding='valid', activation='relu'),\n",
    "    GlobalAveragePooling2D(),\n",
    "    Dense(10, activation='softmax')\n",
    "])\n",
    "mlp.build(input_shape=(None, 28, 28, 1))\n",
    "mlp.summary()"
   ]
  },
  {
   "cell_type": "code",
   "execution_count": 6,
   "metadata": {},
   "outputs": [
    {
     "name": "stdout",
     "output_type": "stream",
     "text": [
      "Epoch 1/10\n",
      "469/469 [==============================] - 4s 7ms/step - loss: 0.9562 - accuracy: 0.6611 - val_loss: 0.7179 - val_accuracy: 0.7435\n",
      "Epoch 2/10\n",
      "469/469 [==============================] - 3s 7ms/step - loss: 0.6556 - accuracy: 0.7586 - val_loss: 0.6187 - val_accuracy: 0.7774\n",
      "Epoch 3/10\n",
      "469/469 [==============================] - 3s 7ms/step - loss: 0.5808 - accuracy: 0.7896 - val_loss: 0.5698 - val_accuracy: 0.7963\n",
      "Epoch 4/10\n",
      "469/469 [==============================] - 3s 7ms/step - loss: 0.5380 - accuracy: 0.8084 - val_loss: 0.5563 - val_accuracy: 0.8016\n",
      "Epoch 5/10\n",
      "469/469 [==============================] - 3s 7ms/step - loss: 0.5107 - accuracy: 0.8176 - val_loss: 0.5323 - val_accuracy: 0.8130\n",
      "Epoch 6/10\n",
      "469/469 [==============================] - 3s 7ms/step - loss: 0.4825 - accuracy: 0.8297 - val_loss: 0.5010 - val_accuracy: 0.8194\n",
      "Epoch 7/10\n",
      "469/469 [==============================] - 3s 6ms/step - loss: 0.4664 - accuracy: 0.8343 - val_loss: 0.4834 - val_accuracy: 0.8282\n",
      "Epoch 8/10\n",
      "469/469 [==============================] - 3s 6ms/step - loss: 0.4522 - accuracy: 0.8396 - val_loss: 0.4766 - val_accuracy: 0.8308\n",
      "Epoch 9/10\n",
      "469/469 [==============================] - 3s 7ms/step - loss: 0.4393 - accuracy: 0.8431 - val_loss: 0.4697 - val_accuracy: 0.8293\n",
      "Epoch 10/10\n",
      "469/469 [==============================] - 3s 7ms/step - loss: 0.4248 - accuracy: 0.8487 - val_loss: 0.4582 - val_accuracy: 0.8306\n",
      "CPU times: user 1min 30s, sys: 4.48 s, total: 1min 34s\n",
      "Wall time: 32.8 s\n"
     ]
    }
   ],
   "source": [
    "%%time\n",
    "mlp.compile(optimizer=tf.keras.optimizers.Adam(learning_rate=1e-3), loss='sparse_categorical_crossentropy', metrics=['accuracy'])\n",
    "mlp_history = mlp.fit(x_train, y_train, epochs=10, batch_size=128, validation_data=(x_test, y_test), verbose=1)"
   ]
  },
  {
   "cell_type": "code",
   "execution_count": 3,
   "metadata": {},
   "outputs": [
    {
     "name": "stdout",
     "output_type": "stream",
     "text": [
      "Model: \"sequential\"\n",
      "_________________________________________________________________\n",
      " Layer (type)                Output Shape              Param #   \n",
      "=================================================================\n",
      " conv2dkan (Conv2DKAN)       (None, 12, 12, 8)         1658      \n",
      "                                                                 \n",
      " layer_normalization (Layer  (None, 12, 12, 8)         16        \n",
      " Normalization)                                                  \n",
      "                                                                 \n",
      " conv2dkan_1 (Conv2DKAN)     (None, 4, 4, 16)          24416     \n",
      "                                                                 \n",
      " global_average_pooling2d (  (None, 16)                0         \n",
      " GlobalAveragePooling2D)                                         \n",
      "                                                                 \n",
      " dense_kan (DenseKAN)        (None, 10)                1290      \n",
      "                                                                 \n",
      " softmax (Softmax)           (None, 10)                0         \n",
      "                                                                 \n",
      "=================================================================\n",
      "Total params: 27380 (106.95 KB)\n",
      "Trainable params: 24970 (97.54 KB)\n",
      "Non-trainable params: 2410 (9.41 KB)\n",
      "_________________________________________________________________\n"
     ]
    }
   ],
   "source": [
    "# KAN\n",
    "kan = tf.keras.models.Sequential([\n",
    "    Conv2DKAN(filters=8, kernel_size=5, strides=2, padding='valid', kan_kwargs={'grid_size': 3}),\n",
    "    tf.keras.layers.LayerNormalization(),\n",
    "    Conv2DKAN(filters=16, kernel_size=5, strides=2, padding='valid', kan_kwargs={'grid_size': 3}),\n",
    "    GlobalAveragePooling2D(),\n",
    "    DenseKAN(10, grid_size=3),\n",
    "    tf.keras.layers.Softmax()\n",
    "])\n",
    "kan.build(input_shape=(None, 28, 28, 1))\n",
    "kan.summary()"
   ]
  },
  {
   "cell_type": "code",
   "execution_count": 4,
   "metadata": {},
   "outputs": [
    {
     "name": "stdout",
     "output_type": "stream",
     "text": [
      "Epoch 1/10\n",
      "469/469 [==============================] - 64s 134ms/step - loss: 1.0546 - accuracy: 0.6387 - val_loss: 0.7451 - val_accuracy: 0.7355\n",
      "Epoch 2/10\n",
      "469/469 [==============================] - 64s 136ms/step - loss: 0.6589 - accuracy: 0.7642 - val_loss: 0.6359 - val_accuracy: 0.7747\n",
      "Epoch 3/10\n",
      "469/469 [==============================] - 64s 136ms/step - loss: 0.5815 - accuracy: 0.7896 - val_loss: 0.6094 - val_accuracy: 0.7815\n",
      "Epoch 4/10\n",
      "469/469 [==============================] - 64s 136ms/step - loss: 0.5410 - accuracy: 0.8045 - val_loss: 0.5606 - val_accuracy: 0.8008\n",
      "Epoch 5/10\n",
      "469/469 [==============================] - 60s 128ms/step - loss: 0.5111 - accuracy: 0.8152 - val_loss: 0.5550 - val_accuracy: 0.7952\n",
      "Epoch 6/10\n",
      "469/469 [==============================] - 59s 126ms/step - loss: 0.4881 - accuracy: 0.8234 - val_loss: 0.5081 - val_accuracy: 0.8192\n",
      "Epoch 7/10\n",
      "469/469 [==============================] - 58s 124ms/step - loss: 0.4709 - accuracy: 0.8291 - val_loss: 0.4859 - val_accuracy: 0.8248\n",
      "Epoch 8/10\n",
      "469/469 [==============================] - 59s 125ms/step - loss: 0.4555 - accuracy: 0.8348 - val_loss: 0.4979 - val_accuracy: 0.8237\n",
      "Epoch 9/10\n",
      "469/469 [==============================] - 59s 125ms/step - loss: 0.4421 - accuracy: 0.8397 - val_loss: 0.4654 - val_accuracy: 0.8373\n",
      "Epoch 10/10\n",
      "469/469 [==============================] - 59s 126ms/step - loss: 0.4309 - accuracy: 0.8440 - val_loss: 0.4545 - val_accuracy: 0.8379\n",
      "CPU times: user 28min 39s, sys: 3min 22s, total: 32min 2s\n",
      "Wall time: 10min 9s\n"
     ]
    }
   ],
   "source": [
    "%%time\n",
    "kan.compile(optimizer=tf.keras.optimizers.Adam(learning_rate=1e-3), loss='sparse_categorical_crossentropy', metrics=['accuracy'])\n",
    "kan_history = kan.fit(x_train, y_train, epochs=10, batch_size=128, validation_data=(x_test, y_test), verbose=1)"
   ]
  },
  {
   "cell_type": "code",
   "execution_count": 7,
   "metadata": {},
   "outputs": [
    {
     "data": {
      "text/plain": [
       "<matplotlib.legend.Legend at 0xffff10ddddc0>"
      ]
     },
     "execution_count": 7,
     "metadata": {},
     "output_type": "execute_result"
    },
    {
     "data": {
      "image/png": "[encoded data removed]",
      "text/plain": [
       "<Figure size 500x300 with 1 Axes>"
      ]
     },
     "metadata": {},
     "output_type": "display_data"
    }
   ],
   "source": [
    "# plot history\n",
    "fig = plt.figure(figsize=(5,3))\n",
    "plt.plot(mlp_history.history['accuracy'], label='mlp-train', ls=\"-\", color=\"red\")\n",
    "plt.plot(mlp_history.history['val_accuracy'], label='mlp-valid', ls=\"--\", color=\"red\")\n",
    "plt.plot(kan_history.history['accuracy'], label='kan-train', ls=\"-\", color=\"blue\")\n",
    "plt.plot(kan_history.history['val_accuracy'], label='kan-valid', ls=\"--\", color=\"blue\")\n",
    "plt.xlabel(\"Epochs\")\n",
    "plt.ylabel(\"Accuracy\")\n",
    "plt.legend()"
   ]
  }
 ],
 "metadata": {
  "kernelspec": {
   "display_name": "tf2",
   "language": "python",
   "name": "python3"
  },
  "language_info": {
   "codemirror_mode": {
    "name": "ipython",
    "version": 3
   },
   "file_extension": ".py",
   "mimetype": "text/x-python",
   "name": "python",
   "nbconvert_exporter": "python",
   "pygments_lexer": "ipython3",
   "version": "3.9.18"
  }
 },
 "nbformat": 4,
 "nbformat_minor": 2
}
